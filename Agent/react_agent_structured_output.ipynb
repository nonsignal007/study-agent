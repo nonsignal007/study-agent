{
 "cells": [
  {
   "cell_type": "markdown",
   "metadata": {},
   "source": [
    "# How to return structrued output from the prebuilt ReAct agent"
   ]
  },
  {
   "cell_type": "markdown",
   "metadata": {},
   "source": [
    "## Load LLM"
   ]
  },
  {
   "cell_type": "code",
   "execution_count": 1,
   "metadata": {},
   "outputs": [],
   "source": [
    "from langchain_openai import ChatOpenAI\n",
    "\n",
    "model = ChatOpenAI(\n",
    "    model=\"qwen2.5:14b\",\n",
    "    base_url='http://127.0.0.1:11434/v1',\n",
    "    api_key='ollama',\n",
    "    temperature=0)"
   ]
  },
  {
   "cell_type": "markdown",
   "metadata": {},
   "source": [
    "## Define Tools"
   ]
  },
  {
   "cell_type": "code",
   "execution_count": 2,
   "metadata": {},
   "outputs": [],
   "source": [
    "from typing import Literal\n",
    "from langchain_core.tools import tool\n",
    "\n",
    "@tool\n",
    "def get_weather(city: Literal[\"nyc\", \"sf\"]):\n",
    "    \"\"\"Use this to get weather information.\"\"\"\n",
    "    if city == \"nyc\":\n",
    "        return \"It might be cloudy in nyc\"\n",
    "    elif city == \"sf\":\n",
    "        return \"It's always sunny in sf\"\n",
    "    else:\n",
    "        raise AssertionError(\"Unknown city\")\n",
    "\n",
    "\n",
    "tools = [get_weather]"
   ]
  },
  {
   "cell_type": "markdown",
   "metadata": {},
   "source": [
    "# Define Output Structured"
   ]
  },
  {
   "cell_type": "code",
   "execution_count": 3,
   "metadata": {},
   "outputs": [],
   "source": [
    "from pydantic import BaseModel, Field\n",
    "\n",
    "class WeatherResponse(BaseModel):\n",
    "    \"\"\"Respond to the user in this format\"\"\"\n",
    "\n",
    "    conditions: str = Field(description=\"Weather conditions\")"
   ]
  },
  {
   "cell_type": "markdown",
   "metadata": {},
   "source": [
    "# Define the graph"
   ]
  },
  {
   "cell_type": "code",
   "execution_count": 4,
   "metadata": {},
   "outputs": [],
   "source": [
    "from langgraph.prebuilt import create_react_agent\n",
    "\n",
    "graph = create_react_agent(\n",
    "    model,\n",
    "    tools= tools, \n",
    "    response_format=WeatherResponse\n",
    ")"
   ]
  },
  {
   "cell_type": "markdown",
   "metadata": {},
   "source": [
    "# Usage"
   ]
  },
  {
   "cell_type": "code",
   "execution_count": 5,
   "metadata": {},
   "outputs": [],
   "source": [
    "inputs = {\"messages\": [(\"user\", \"What's the weather in NYC?\")]}\n",
    "response = graph.invoke(inputs)"
   ]
  },
  {
   "cell_type": "code",
   "execution_count": 6,
   "metadata": {},
   "outputs": [
    {
     "data": {
      "text/plain": [
       "{'messages': [HumanMessage(content=\"What's the weather in NYC?\", additional_kwargs={}, response_metadata={}, id='62331010-1711-44e0-aa81-9fefcfdb9025'),\n",
       "  AIMessage(content='', additional_kwargs={'tool_calls': [{'id': 'call_vej8jfl8', 'function': {'arguments': '{\"city\":\"nyc\"}', 'name': 'get_weather'}, 'type': 'function', 'index': 0}], 'refusal': None}, response_metadata={'token_usage': {'completion_tokens': 21, 'prompt_tokens': 167, 'total_tokens': 188, 'completion_tokens_details': None, 'prompt_tokens_details': None}, 'model_name': 'qwen2.5:14b', 'system_fingerprint': 'fp_ollama', 'id': 'chatcmpl-103', 'finish_reason': 'tool_calls', 'logprobs': None}, id='run-024ab451-6e6c-4038-94fe-7e18d7947b7c-0', tool_calls=[{'name': 'get_weather', 'args': {'city': 'nyc'}, 'id': 'call_vej8jfl8', 'type': 'tool_call'}], usage_metadata={'input_tokens': 167, 'output_tokens': 21, 'total_tokens': 188, 'input_token_details': {}, 'output_token_details': {}}),\n",
       "  ToolMessage(content='It might be cloudy in nyc', name='get_weather', id='b4681b6c-287c-49c7-a4db-6572d102385c', tool_call_id='call_vej8jfl8'),\n",
       "  AIMessage(content='', additional_kwargs={'tool_calls': [{'id': 'call_t4huywdg', 'function': {'arguments': '{\"city\":\"nyc\"}', 'name': 'get_weather'}, 'type': 'function', 'index': 0}], 'refusal': None}, response_metadata={'token_usage': {'completion_tokens': 47, 'prompt_tokens': 212, 'total_tokens': 259, 'completion_tokens_details': None, 'prompt_tokens_details': None}, 'model_name': 'qwen2.5:14b', 'system_fingerprint': 'fp_ollama', 'id': 'chatcmpl-917', 'finish_reason': 'tool_calls', 'logprobs': None}, id='run-a1dedafb-30be-46c4-941b-e88b9791511c-0', tool_calls=[{'name': 'get_weather', 'args': {'city': 'nyc'}, 'id': 'call_t4huywdg', 'type': 'tool_call'}], usage_metadata={'input_tokens': 212, 'output_tokens': 47, 'total_tokens': 259, 'input_token_details': {}, 'output_token_details': {}}),\n",
       "  ToolMessage(content='It might be cloudy in nyc', name='get_weather', id='39ba18e4-dd6a-4b79-a7d3-a3cb44394ba1', tool_call_id='call_t4huywdg'),\n",
       "  AIMessage(content='', additional_kwargs={'tool_calls': [{'id': 'call_kup5doiw', 'function': {'arguments': '{\"city\":\"nyc\"}', 'name': 'get_weather'}, 'type': 'function', 'index': 0}], 'refusal': None}, response_metadata={'token_usage': {'completion_tokens': 46, 'prompt_tokens': 257, 'total_tokens': 303, 'completion_tokens_details': None, 'prompt_tokens_details': None}, 'model_name': 'qwen2.5:14b', 'system_fingerprint': 'fp_ollama', 'id': 'chatcmpl-878', 'finish_reason': 'tool_calls', 'logprobs': None}, id='run-d83d8535-2691-4107-8880-5389887b6f19-0', tool_calls=[{'name': 'get_weather', 'args': {'city': 'nyc'}, 'id': 'call_kup5doiw', 'type': 'tool_call'}], usage_metadata={'input_tokens': 257, 'output_tokens': 46, 'total_tokens': 303, 'input_token_details': {}, 'output_token_details': {}}),\n",
       "  ToolMessage(content='It might be cloudy in nyc', name='get_weather', id='b22a05c5-e812-436f-b95a-602c8349f7cd', tool_call_id='call_kup5doiw'),\n",
       "  AIMessage(content='', additional_kwargs={'tool_calls': [{'id': 'call_2wy5b7zf', 'function': {'arguments': '{\"city\":\"nyc\"}', 'name': 'get_weather'}, 'type': 'function', 'index': 0}], 'refusal': None}, response_metadata={'token_usage': {'completion_tokens': 47, 'prompt_tokens': 302, 'total_tokens': 349, 'completion_tokens_details': None, 'prompt_tokens_details': None}, 'model_name': 'qwen2.5:14b', 'system_fingerprint': 'fp_ollama', 'id': 'chatcmpl-940', 'finish_reason': 'tool_calls', 'logprobs': None}, id='run-56acf5c4-cd6e-416f-8da4-d6b2a20610cc-0', tool_calls=[{'name': 'get_weather', 'args': {'city': 'nyc'}, 'id': 'call_2wy5b7zf', 'type': 'tool_call'}], usage_metadata={'input_tokens': 302, 'output_tokens': 47, 'total_tokens': 349, 'input_token_details': {}, 'output_token_details': {}}),\n",
       "  ToolMessage(content='It might be cloudy in nyc', name='get_weather', id='1b1087d5-70d9-485a-a670-3fa8b7c1a743', tool_call_id='call_2wy5b7zf'),\n",
       "  AIMessage(content='The weather in NYC is currently expected to be cloudy. For more detailed information such as temperature and humidity, we can check again later or specify if you need a particular detail about the weather conditions. Would you like to know anything else?', additional_kwargs={'refusal': None}, response_metadata={'token_usage': {'completion_tokens': 48, 'prompt_tokens': 347, 'total_tokens': 395, 'completion_tokens_details': None, 'prompt_tokens_details': None}, 'model_name': 'qwen2.5:14b', 'system_fingerprint': 'fp_ollama', 'id': 'chatcmpl-503', 'finish_reason': 'stop', 'logprobs': None}, id='run-8f9f9fa8-eda5-4e3a-bb32-39ab90a10c3c-0', usage_metadata={'input_tokens': 347, 'output_tokens': 48, 'total_tokens': 395, 'input_token_details': {}, 'output_token_details': {}})],\n",
       " 'structured_response': WeatherResponse(conditions='cloudy')}"
      ]
     },
     "execution_count": 6,
     "metadata": {},
     "output_type": "execute_result"
    }
   ],
   "source": [
    "response"
   ]
  },
  {
   "cell_type": "code",
   "execution_count": 7,
   "metadata": {},
   "outputs": [
    {
     "data": {
      "text/plain": [
       "WeatherResponse(conditions='cloudy')"
      ]
     },
     "execution_count": 7,
     "metadata": {},
     "output_type": "execute_result"
    }
   ],
   "source": [
    "response['structured_response']"
   ]
  },
  {
   "cell_type": "markdown",
   "metadata": {},
   "source": [
    "## Customizing prompt"
   ]
  },
  {
   "cell_type": "code",
   "execution_count": 13,
   "metadata": {},
   "outputs": [],
   "source": [
    "graph = create_react_agent(\n",
    "    model,\n",
    "    tools=tools,\n",
    "    # specify both the system prompt and the schema for the structured output\n",
    "    response_format=(\"Always return capitalized weather conditions\", WeatherResponse),\n",
    ")\n",
    "\n",
    "inputs = {\"messages\": [(\"user\", \"What's the weather in NYC?\")]}\n",
    "response = graph.invoke(inputs)"
   ]
  },
  {
   "cell_type": "code",
   "execution_count": 14,
   "metadata": {},
   "outputs": [
    {
     "data": {
      "text/plain": [
       "WeatherResponse(conditions='CLOUDY')"
      ]
     },
     "execution_count": 14,
     "metadata": {},
     "output_type": "execute_result"
    }
   ],
   "source": [
    "response['structured_response']"
   ]
  },
  {
   "cell_type": "code",
   "execution_count": null,
   "metadata": {},
   "outputs": [],
   "source": []
  }
 ],
 "metadata": {
  "kernelspec": {
   "display_name": "study-agent-x8cjzk9S-py3.10",
   "language": "python",
   "name": "python3"
  },
  "language_info": {
   "codemirror_mode": {
    "name": "ipython",
    "version": 3
   },
   "file_extension": ".py",
   "mimetype": "text/x-python",
   "name": "python",
   "nbconvert_exporter": "python",
   "pygments_lexer": "ipython3",
   "version": "3.10.12"
  }
 },
 "nbformat": 4,
 "nbformat_minor": 2
}
