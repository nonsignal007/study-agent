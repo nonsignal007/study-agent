{
 "cells": [
  {
   "cell_type": "markdown",
   "metadata": {},
   "source": [
    "# Hiding arguments from the model\n",
    "\n",
    "- InjectedArgs 를 이용하여 모델이 제어해서는 안되는 인수를 숨긴다."
   ]
  },
  {
   "cell_type": "code",
   "execution_count": 2,
   "metadata": {},
   "outputs": [],
   "source": [
    "from typing import List\n",
    "\n",
    "from langchain_core.tools import InjectedToolArg, tool\n",
    "from typing_extensions import Annotated\n",
    "\n",
    "user_to_pets = {}\n",
    "\n",
    "@tool(parse_docstring=True) # 함수의 docstring 을 읽음\n",
    "def update_favorite_pets(\n",
    "    pets: List[str], user_id: Annotated[str, InjectedToolArg]\n",
    ") -> None:\n",
    "    \"\"\"Add the list of favorite pets.\n",
    "    \n",
    "    Args:\n",
    "        pets: List of favorite pets to set.\n",
    "        user_id: User's ID\n",
    "    \"\"\"\n",
    "    user_to_pets[user_id] = pets\n",
    "\n",
    "@tool(parse_docstring=True)\n",
    "def delete_favorite_pets(user_id: Annotated[str, InjectedToolArg]) -> None:\n",
    "    \"\"\"Delete the list of favorite pets.\n",
    "\n",
    "    Args:\n",
    "        user_id: User's ID.\n",
    "    \"\"\"\n",
    "    if user_id in user_to_pets:\n",
    "        del user_to_pets[user_id]\n",
    "\n",
    "\n",
    "@tool(parse_docstring=True)\n",
    "def list_favorite_pets(user_id: Annotated[str, InjectedToolArg]) -> None:\n",
    "    \"\"\"List favorite pets if any.\n",
    "\n",
    "    Args:\n",
    "        user_id: User's ID.\n",
    "    \"\"\"\n",
    "    return user_to_pets.get(user_id, [])"
   ]
  },
  {
   "cell_type": "markdown",
   "metadata": {},
   "source": [
    "## get_input_schema()\n",
    "\n",
    "- 도구의 전체 입력 스키마를 반환한다.\n",
    "- 즉, 함수가 필요로 하는 모든 입력 매개변수(인자)들이 정의되어 있음\n",
    "- 이는 직접 호출할때 (`invoke()` 사용) 필요한 입력을 보여주는 것"
   ]
  },
  {
   "cell_type": "code",
   "execution_count": 3,
   "metadata": {},
   "outputs": [
    {
     "data": {
      "text/plain": [
       "{'description': 'Add the list of favorite pets.',\n",
       " 'properties': {'pets': {'description': 'List of favorite pets to set.',\n",
       "   'items': {'type': 'string'},\n",
       "   'title': 'Pets',\n",
       "   'type': 'array'},\n",
       "  'user_id': {'description': \"User's ID\",\n",
       "   'title': 'User Id',\n",
       "   'type': 'string'}},\n",
       " 'required': ['pets', 'user_id'],\n",
       " 'title': 'update_favorite_pets',\n",
       " 'type': 'object'}"
      ]
     },
     "execution_count": 3,
     "metadata": {},
     "output_type": "execute_result"
    }
   ],
   "source": [
    "update_favorite_pets.get_input_schema().model_json_schema()\n",
    "\n",
    "## input schemas 를 살펴보면 `user_id` 는 여전히 존재"
   ]
  },
  {
   "cell_type": "markdown",
   "metadata": {},
   "source": [
    "## tool_call_schema()\n",
    "\n",
    "- 모델이 도구를 호출할 떄 사용할 스키마를 정의한다.\n",
    "- LLM 이 자동으로 도구를 사용할 때, 어떤 매개변수를 생성해야 하는지를 결정한다.\n"
   ]
  },
  {
   "cell_type": "code",
   "execution_count": 4,
   "metadata": {},
   "outputs": [
    {
     "data": {
      "text/plain": [
       "{'description': 'Add the list of favorite pets.',\n",
       " 'properties': {'pets': {'description': 'List of favorite pets to set.',\n",
       "   'items': {'type': 'string'},\n",
       "   'title': 'Pets',\n",
       "   'type': 'array'}},\n",
       " 'required': ['pets'],\n",
       " 'title': 'update_favorite_pets',\n",
       " 'type': 'object'}"
      ]
     },
     "execution_count": 4,
     "metadata": {},
     "output_type": "execute_result"
    }
   ],
   "source": [
    "update_favorite_pets.tool_call_schema.model_json_schema()"
   ]
  },
  {
   "cell_type": "code",
   "execution_count": 5,
   "metadata": {},
   "outputs": [
    {
     "name": "stdout",
     "output_type": "stream",
     "text": [
      "{'123': ['lizard', 'dog']}\n",
      "['lizard', 'dog']\n"
     ]
    }
   ],
   "source": [
    "user_id = \"123\"\n",
    "update_favorite_pets.invoke({\"pets\": [\"lizard\", \"dog\"], \"user_id\": user_id})\n",
    "print(user_to_pets)\n",
    "print(list_favorite_pets.invoke({\"user_id\": user_id}))"
   ]
  },
  {
   "cell_type": "markdown",
   "metadata": {},
   "source": [
    "## Model Load\n",
    "\n",
    "- Ollama 를 이용해서 `Qwen2.5:7b` 를 사용하도록 하겠다."
   ]
  },
  {
   "cell_type": "code",
   "execution_count": 22,
   "metadata": {},
   "outputs": [],
   "source": [
    "from langchain_openai import ChatOpenAI\n",
    "\n",
    "model = 'qwen2.5:7b'\n",
    "key = 'ollama'\n",
    "\n",
    "llm = ChatOpenAI(\n",
    "    base_url = \"http://127.0.0.1:11434/v1\",\n",
    "    api_key=key,\n",
    "    model=model\n",
    ")"
   ]
  },
  {
   "cell_type": "code",
   "execution_count": 24,
   "metadata": {},
   "outputs": [
    {
     "data": {
      "text/plain": [
       "[{'name': 'update_favorite_pets',\n",
       "  'args': {'pets': ['cats', 'parrots']},\n",
       "  'id': 'call_c1gd70ab',\n",
       "  'type': 'tool_call'}]"
      ]
     },
     "execution_count": 24,
     "metadata": {},
     "output_type": "execute_result"
    }
   ],
   "source": [
    "tools = [\n",
    "    update_favorite_pets,\n",
    "    delete_favorite_pets,\n",
    "    list_favorite_pets,\n",
    "]\n",
    "llm_with_tools = llm.bind_tools(tools)\n",
    "ai_msg = llm_with_tools.invoke(\"my favorite animals are cats and parrots\")\n",
    "ai_msg.tool_calls"
   ]
  }
 ],
 "metadata": {
  "kernelspec": {
   "display_name": "study-agent-x8cjzk9S-py3.10",
   "language": "python",
   "name": "python3"
  },
  "language_info": {
   "codemirror_mode": {
    "name": "ipython",
    "version": 3
   },
   "file_extension": ".py",
   "mimetype": "text/x-python",
   "name": "python",
   "nbconvert_exporter": "python",
   "pygments_lexer": "ipython3",
   "version": "3.10.12"
  }
 },
 "nbformat": 4,
 "nbformat_minor": 2
}
